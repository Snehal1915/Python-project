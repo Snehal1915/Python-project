{
 "cells": [
  {
   "cell_type": "markdown",
   "metadata": {},
   "source": [
    "<h1 class=\"list-group-item list-group-item-action active\" data-toggle=\"list\"  role=\"tab\" aria-controls=\"home\">Exploratory Data Analysis Final Exam </h1>\n",
    "     \n"
   ]
  },
  {
   "cell_type": "code",
   "execution_count": 1,
   "metadata": {},
   "outputs": [],
   "source": [
    "import numpy as np\n",
    "import pandas as pd\n",
    "import matplotlib.pyplot as plt\n",
    "import seaborn as sns\n",
    "import warnings\n",
    "warnings.filterwarnings(\"ignore\")"
   ]
  },
  {
   "cell_type": "code",
   "execution_count": 2,
   "metadata": {},
   "outputs": [],
   "source": [
    "from sklearn.preprocessing import OneHotEncoder,LabelEncoder,OrdinalEncoder,StandardScaler,MinMaxScaler\n",
    "from sklearn.model_selection import train_test_split"
   ]
  },
  {
   "cell_type": "markdown",
   "metadata": {},
   "source": [
    "### Data Set Information: "
   ]
  },
  {
   "cell_type": "markdown",
   "metadata": {},
   "source": [
    "You are a data analyst working as part of a team that is changing the digital experience of the customers in the GL Store. Among the many tasks that this implies, your team has developed a new system that allows customers to buy items on a Virtual Reality tour.\n",
    "\n",
    "After launching it, the team asks you to analyze the data to understand what kind of costume has tested the new product and what are the main insights that can be obtained.\n",
    "\n",
    "\n",
    "item ID, item categorization and sales amount. Furthermore, each transaction is labeled with a specific customer ID as well as supplementary information about that customer, for example whether that customer has children or not."
   ]
  },
  {
   "cell_type": "markdown",
   "metadata": {},
   "source": [
    "\n",
    "\n",
    "* CustomerID\t\n",
    "\n",
    "* ItemID\t\n",
    "\n",
    "* Sex\t\n",
    "\n",
    "* Age\t\n",
    "\n",
    "* Profession\t\n",
    "\n",
    "* CityType\t\n",
    "\n",
    "* YearsInCity\t\n",
    "\n",
    "* HaveChildren\t\n",
    "\n",
    "* ItemCategory1\t\n",
    "\n",
    "* ItemCategory2\t\n",
    "\n",
    "* ItemCategory3\t\n",
    "\n",
    "* Amount"
   ]
  },
  {
   "cell_type": "markdown",
   "metadata": {},
   "source": [
    "# Kindly change the below cells from markdown to code and execute it "
   ]
  },
  {
   "cell_type": "code",
   "execution_count": 3,
   "metadata": {},
   "outputs": [
    {
     "ename": "FileNotFoundError",
     "evalue": "[Errno 2] No such file or directory: 'data_set.csv'",
     "output_type": "error",
     "traceback": [
      "\u001b[1;31m---------------------------------------------------------------------------\u001b[0m",
      "\u001b[1;31mFileNotFoundError\u001b[0m                         Traceback (most recent call last)",
      "Input \u001b[1;32mIn [3]\u001b[0m, in \u001b[0;36m<cell line: 4>\u001b[1;34m()\u001b[0m\n\u001b[0;32m      1\u001b[0m \u001b[38;5;28;01mimport\u001b[39;00m \u001b[38;5;21;01mpandas\u001b[39;00m \u001b[38;5;28;01mas\u001b[39;00m \u001b[38;5;21;01mpd\u001b[39;00m\n\u001b[1;32m----> 4\u001b[0m df\u001b[38;5;241m=\u001b[39m\u001b[43mpd\u001b[49m\u001b[38;5;241;43m.\u001b[39;49m\u001b[43mread_csv\u001b[49m\u001b[43m(\u001b[49m\u001b[38;5;124;43m\"\u001b[39;49m\u001b[38;5;124;43mdata_set.csv\u001b[39;49m\u001b[38;5;124;43m\"\u001b[39;49m\u001b[43m,\u001b[49m\u001b[43msep\u001b[49m\u001b[38;5;241;43m=\u001b[39;49m\u001b[38;5;124;43m'\u001b[39;49m\u001b[38;5;124;43m;\u001b[39;49m\u001b[38;5;124;43m'\u001b[39;49m\u001b[43m)\u001b[49m\n\u001b[0;32m      6\u001b[0m df\u001b[38;5;241m.\u001b[39mhead()\n",
      "File \u001b[1;32m~\\anaconda3\\lib\\site-packages\\pandas\\util\\_decorators.py:311\u001b[0m, in \u001b[0;36mdeprecate_nonkeyword_arguments.<locals>.decorate.<locals>.wrapper\u001b[1;34m(*args, **kwargs)\u001b[0m\n\u001b[0;32m    305\u001b[0m \u001b[38;5;28;01mif\u001b[39;00m \u001b[38;5;28mlen\u001b[39m(args) \u001b[38;5;241m>\u001b[39m num_allow_args:\n\u001b[0;32m    306\u001b[0m     warnings\u001b[38;5;241m.\u001b[39mwarn(\n\u001b[0;32m    307\u001b[0m         msg\u001b[38;5;241m.\u001b[39mformat(arguments\u001b[38;5;241m=\u001b[39marguments),\n\u001b[0;32m    308\u001b[0m         \u001b[38;5;167;01mFutureWarning\u001b[39;00m,\n\u001b[0;32m    309\u001b[0m         stacklevel\u001b[38;5;241m=\u001b[39mstacklevel,\n\u001b[0;32m    310\u001b[0m     )\n\u001b[1;32m--> 311\u001b[0m \u001b[38;5;28;01mreturn\u001b[39;00m func(\u001b[38;5;241m*\u001b[39margs, \u001b[38;5;241m*\u001b[39m\u001b[38;5;241m*\u001b[39mkwargs)\n",
      "File \u001b[1;32m~\\anaconda3\\lib\\site-packages\\pandas\\io\\parsers\\readers.py:680\u001b[0m, in \u001b[0;36mread_csv\u001b[1;34m(filepath_or_buffer, sep, delimiter, header, names, index_col, usecols, squeeze, prefix, mangle_dupe_cols, dtype, engine, converters, true_values, false_values, skipinitialspace, skiprows, skipfooter, nrows, na_values, keep_default_na, na_filter, verbose, skip_blank_lines, parse_dates, infer_datetime_format, keep_date_col, date_parser, dayfirst, cache_dates, iterator, chunksize, compression, thousands, decimal, lineterminator, quotechar, quoting, doublequote, escapechar, comment, encoding, encoding_errors, dialect, error_bad_lines, warn_bad_lines, on_bad_lines, delim_whitespace, low_memory, memory_map, float_precision, storage_options)\u001b[0m\n\u001b[0;32m    665\u001b[0m kwds_defaults \u001b[38;5;241m=\u001b[39m _refine_defaults_read(\n\u001b[0;32m    666\u001b[0m     dialect,\n\u001b[0;32m    667\u001b[0m     delimiter,\n\u001b[1;32m   (...)\u001b[0m\n\u001b[0;32m    676\u001b[0m     defaults\u001b[38;5;241m=\u001b[39m{\u001b[38;5;124m\"\u001b[39m\u001b[38;5;124mdelimiter\u001b[39m\u001b[38;5;124m\"\u001b[39m: \u001b[38;5;124m\"\u001b[39m\u001b[38;5;124m,\u001b[39m\u001b[38;5;124m\"\u001b[39m},\n\u001b[0;32m    677\u001b[0m )\n\u001b[0;32m    678\u001b[0m kwds\u001b[38;5;241m.\u001b[39mupdate(kwds_defaults)\n\u001b[1;32m--> 680\u001b[0m \u001b[38;5;28;01mreturn\u001b[39;00m \u001b[43m_read\u001b[49m\u001b[43m(\u001b[49m\u001b[43mfilepath_or_buffer\u001b[49m\u001b[43m,\u001b[49m\u001b[43m \u001b[49m\u001b[43mkwds\u001b[49m\u001b[43m)\u001b[49m\n",
      "File \u001b[1;32m~\\anaconda3\\lib\\site-packages\\pandas\\io\\parsers\\readers.py:575\u001b[0m, in \u001b[0;36m_read\u001b[1;34m(filepath_or_buffer, kwds)\u001b[0m\n\u001b[0;32m    572\u001b[0m _validate_names(kwds\u001b[38;5;241m.\u001b[39mget(\u001b[38;5;124m\"\u001b[39m\u001b[38;5;124mnames\u001b[39m\u001b[38;5;124m\"\u001b[39m, \u001b[38;5;28;01mNone\u001b[39;00m))\n\u001b[0;32m    574\u001b[0m \u001b[38;5;66;03m# Create the parser.\u001b[39;00m\n\u001b[1;32m--> 575\u001b[0m parser \u001b[38;5;241m=\u001b[39m TextFileReader(filepath_or_buffer, \u001b[38;5;241m*\u001b[39m\u001b[38;5;241m*\u001b[39mkwds)\n\u001b[0;32m    577\u001b[0m \u001b[38;5;28;01mif\u001b[39;00m chunksize \u001b[38;5;129;01mor\u001b[39;00m iterator:\n\u001b[0;32m    578\u001b[0m     \u001b[38;5;28;01mreturn\u001b[39;00m parser\n",
      "File \u001b[1;32m~\\anaconda3\\lib\\site-packages\\pandas\\io\\parsers\\readers.py:933\u001b[0m, in \u001b[0;36mTextFileReader.__init__\u001b[1;34m(self, f, engine, **kwds)\u001b[0m\n\u001b[0;32m    930\u001b[0m     \u001b[38;5;28mself\u001b[39m\u001b[38;5;241m.\u001b[39moptions[\u001b[38;5;124m\"\u001b[39m\u001b[38;5;124mhas_index_names\u001b[39m\u001b[38;5;124m\"\u001b[39m] \u001b[38;5;241m=\u001b[39m kwds[\u001b[38;5;124m\"\u001b[39m\u001b[38;5;124mhas_index_names\u001b[39m\u001b[38;5;124m\"\u001b[39m]\n\u001b[0;32m    932\u001b[0m \u001b[38;5;28mself\u001b[39m\u001b[38;5;241m.\u001b[39mhandles: IOHandles \u001b[38;5;241m|\u001b[39m \u001b[38;5;28;01mNone\u001b[39;00m \u001b[38;5;241m=\u001b[39m \u001b[38;5;28;01mNone\u001b[39;00m\n\u001b[1;32m--> 933\u001b[0m \u001b[38;5;28mself\u001b[39m\u001b[38;5;241m.\u001b[39m_engine \u001b[38;5;241m=\u001b[39m \u001b[38;5;28;43mself\u001b[39;49m\u001b[38;5;241;43m.\u001b[39;49m\u001b[43m_make_engine\u001b[49m\u001b[43m(\u001b[49m\u001b[43mf\u001b[49m\u001b[43m,\u001b[49m\u001b[43m \u001b[49m\u001b[38;5;28;43mself\u001b[39;49m\u001b[38;5;241;43m.\u001b[39;49m\u001b[43mengine\u001b[49m\u001b[43m)\u001b[49m\n",
      "File \u001b[1;32m~\\anaconda3\\lib\\site-packages\\pandas\\io\\parsers\\readers.py:1217\u001b[0m, in \u001b[0;36mTextFileReader._make_engine\u001b[1;34m(self, f, engine)\u001b[0m\n\u001b[0;32m   1213\u001b[0m     mode \u001b[38;5;241m=\u001b[39m \u001b[38;5;124m\"\u001b[39m\u001b[38;5;124mrb\u001b[39m\u001b[38;5;124m\"\u001b[39m\n\u001b[0;32m   1214\u001b[0m \u001b[38;5;66;03m# error: No overload variant of \"get_handle\" matches argument types\u001b[39;00m\n\u001b[0;32m   1215\u001b[0m \u001b[38;5;66;03m# \"Union[str, PathLike[str], ReadCsvBuffer[bytes], ReadCsvBuffer[str]]\"\u001b[39;00m\n\u001b[0;32m   1216\u001b[0m \u001b[38;5;66;03m# , \"str\", \"bool\", \"Any\", \"Any\", \"Any\", \"Any\", \"Any\"\u001b[39;00m\n\u001b[1;32m-> 1217\u001b[0m \u001b[38;5;28mself\u001b[39m\u001b[38;5;241m.\u001b[39mhandles \u001b[38;5;241m=\u001b[39m \u001b[43mget_handle\u001b[49m\u001b[43m(\u001b[49m\u001b[43m  \u001b[49m\u001b[38;5;66;43;03m# type: ignore[call-overload]\u001b[39;49;00m\n\u001b[0;32m   1218\u001b[0m \u001b[43m    \u001b[49m\u001b[43mf\u001b[49m\u001b[43m,\u001b[49m\n\u001b[0;32m   1219\u001b[0m \u001b[43m    \u001b[49m\u001b[43mmode\u001b[49m\u001b[43m,\u001b[49m\n\u001b[0;32m   1220\u001b[0m \u001b[43m    \u001b[49m\u001b[43mencoding\u001b[49m\u001b[38;5;241;43m=\u001b[39;49m\u001b[38;5;28;43mself\u001b[39;49m\u001b[38;5;241;43m.\u001b[39;49m\u001b[43moptions\u001b[49m\u001b[38;5;241;43m.\u001b[39;49m\u001b[43mget\u001b[49m\u001b[43m(\u001b[49m\u001b[38;5;124;43m\"\u001b[39;49m\u001b[38;5;124;43mencoding\u001b[39;49m\u001b[38;5;124;43m\"\u001b[39;49m\u001b[43m,\u001b[49m\u001b[43m \u001b[49m\u001b[38;5;28;43;01mNone\u001b[39;49;00m\u001b[43m)\u001b[49m\u001b[43m,\u001b[49m\n\u001b[0;32m   1221\u001b[0m \u001b[43m    \u001b[49m\u001b[43mcompression\u001b[49m\u001b[38;5;241;43m=\u001b[39;49m\u001b[38;5;28;43mself\u001b[39;49m\u001b[38;5;241;43m.\u001b[39;49m\u001b[43moptions\u001b[49m\u001b[38;5;241;43m.\u001b[39;49m\u001b[43mget\u001b[49m\u001b[43m(\u001b[49m\u001b[38;5;124;43m\"\u001b[39;49m\u001b[38;5;124;43mcompression\u001b[39;49m\u001b[38;5;124;43m\"\u001b[39;49m\u001b[43m,\u001b[49m\u001b[43m \u001b[49m\u001b[38;5;28;43;01mNone\u001b[39;49;00m\u001b[43m)\u001b[49m\u001b[43m,\u001b[49m\n\u001b[0;32m   1222\u001b[0m \u001b[43m    \u001b[49m\u001b[43mmemory_map\u001b[49m\u001b[38;5;241;43m=\u001b[39;49m\u001b[38;5;28;43mself\u001b[39;49m\u001b[38;5;241;43m.\u001b[39;49m\u001b[43moptions\u001b[49m\u001b[38;5;241;43m.\u001b[39;49m\u001b[43mget\u001b[49m\u001b[43m(\u001b[49m\u001b[38;5;124;43m\"\u001b[39;49m\u001b[38;5;124;43mmemory_map\u001b[39;49m\u001b[38;5;124;43m\"\u001b[39;49m\u001b[43m,\u001b[49m\u001b[43m \u001b[49m\u001b[38;5;28;43;01mFalse\u001b[39;49;00m\u001b[43m)\u001b[49m\u001b[43m,\u001b[49m\n\u001b[0;32m   1223\u001b[0m \u001b[43m    \u001b[49m\u001b[43mis_text\u001b[49m\u001b[38;5;241;43m=\u001b[39;49m\u001b[43mis_text\u001b[49m\u001b[43m,\u001b[49m\n\u001b[0;32m   1224\u001b[0m \u001b[43m    \u001b[49m\u001b[43merrors\u001b[49m\u001b[38;5;241;43m=\u001b[39;49m\u001b[38;5;28;43mself\u001b[39;49m\u001b[38;5;241;43m.\u001b[39;49m\u001b[43moptions\u001b[49m\u001b[38;5;241;43m.\u001b[39;49m\u001b[43mget\u001b[49m\u001b[43m(\u001b[49m\u001b[38;5;124;43m\"\u001b[39;49m\u001b[38;5;124;43mencoding_errors\u001b[39;49m\u001b[38;5;124;43m\"\u001b[39;49m\u001b[43m,\u001b[49m\u001b[43m \u001b[49m\u001b[38;5;124;43m\"\u001b[39;49m\u001b[38;5;124;43mstrict\u001b[39;49m\u001b[38;5;124;43m\"\u001b[39;49m\u001b[43m)\u001b[49m\u001b[43m,\u001b[49m\n\u001b[0;32m   1225\u001b[0m \u001b[43m    \u001b[49m\u001b[43mstorage_options\u001b[49m\u001b[38;5;241;43m=\u001b[39;49m\u001b[38;5;28;43mself\u001b[39;49m\u001b[38;5;241;43m.\u001b[39;49m\u001b[43moptions\u001b[49m\u001b[38;5;241;43m.\u001b[39;49m\u001b[43mget\u001b[49m\u001b[43m(\u001b[49m\u001b[38;5;124;43m\"\u001b[39;49m\u001b[38;5;124;43mstorage_options\u001b[39;49m\u001b[38;5;124;43m\"\u001b[39;49m\u001b[43m,\u001b[49m\u001b[43m \u001b[49m\u001b[38;5;28;43;01mNone\u001b[39;49;00m\u001b[43m)\u001b[49m\u001b[43m,\u001b[49m\n\u001b[0;32m   1226\u001b[0m \u001b[43m\u001b[49m\u001b[43m)\u001b[49m\n\u001b[0;32m   1227\u001b[0m \u001b[38;5;28;01massert\u001b[39;00m \u001b[38;5;28mself\u001b[39m\u001b[38;5;241m.\u001b[39mhandles \u001b[38;5;129;01mis\u001b[39;00m \u001b[38;5;129;01mnot\u001b[39;00m \u001b[38;5;28;01mNone\u001b[39;00m\n\u001b[0;32m   1228\u001b[0m f \u001b[38;5;241m=\u001b[39m \u001b[38;5;28mself\u001b[39m\u001b[38;5;241m.\u001b[39mhandles\u001b[38;5;241m.\u001b[39mhandle\n",
      "File \u001b[1;32m~\\anaconda3\\lib\\site-packages\\pandas\\io\\common.py:789\u001b[0m, in \u001b[0;36mget_handle\u001b[1;34m(path_or_buf, mode, encoding, compression, memory_map, is_text, errors, storage_options)\u001b[0m\n\u001b[0;32m    784\u001b[0m \u001b[38;5;28;01melif\u001b[39;00m \u001b[38;5;28misinstance\u001b[39m(handle, \u001b[38;5;28mstr\u001b[39m):\n\u001b[0;32m    785\u001b[0m     \u001b[38;5;66;03m# Check whether the filename is to be opened in binary mode.\u001b[39;00m\n\u001b[0;32m    786\u001b[0m     \u001b[38;5;66;03m# Binary mode does not support 'encoding' and 'newline'.\u001b[39;00m\n\u001b[0;32m    787\u001b[0m     \u001b[38;5;28;01mif\u001b[39;00m ioargs\u001b[38;5;241m.\u001b[39mencoding \u001b[38;5;129;01mand\u001b[39;00m \u001b[38;5;124m\"\u001b[39m\u001b[38;5;124mb\u001b[39m\u001b[38;5;124m\"\u001b[39m \u001b[38;5;129;01mnot\u001b[39;00m \u001b[38;5;129;01min\u001b[39;00m ioargs\u001b[38;5;241m.\u001b[39mmode:\n\u001b[0;32m    788\u001b[0m         \u001b[38;5;66;03m# Encoding\u001b[39;00m\n\u001b[1;32m--> 789\u001b[0m         handle \u001b[38;5;241m=\u001b[39m \u001b[38;5;28;43mopen\u001b[39;49m\u001b[43m(\u001b[49m\n\u001b[0;32m    790\u001b[0m \u001b[43m            \u001b[49m\u001b[43mhandle\u001b[49m\u001b[43m,\u001b[49m\n\u001b[0;32m    791\u001b[0m \u001b[43m            \u001b[49m\u001b[43mioargs\u001b[49m\u001b[38;5;241;43m.\u001b[39;49m\u001b[43mmode\u001b[49m\u001b[43m,\u001b[49m\n\u001b[0;32m    792\u001b[0m \u001b[43m            \u001b[49m\u001b[43mencoding\u001b[49m\u001b[38;5;241;43m=\u001b[39;49m\u001b[43mioargs\u001b[49m\u001b[38;5;241;43m.\u001b[39;49m\u001b[43mencoding\u001b[49m\u001b[43m,\u001b[49m\n\u001b[0;32m    793\u001b[0m \u001b[43m            \u001b[49m\u001b[43merrors\u001b[49m\u001b[38;5;241;43m=\u001b[39;49m\u001b[43merrors\u001b[49m\u001b[43m,\u001b[49m\n\u001b[0;32m    794\u001b[0m \u001b[43m            \u001b[49m\u001b[43mnewline\u001b[49m\u001b[38;5;241;43m=\u001b[39;49m\u001b[38;5;124;43m\"\u001b[39;49m\u001b[38;5;124;43m\"\u001b[39;49m\u001b[43m,\u001b[49m\n\u001b[0;32m    795\u001b[0m \u001b[43m        \u001b[49m\u001b[43m)\u001b[49m\n\u001b[0;32m    796\u001b[0m     \u001b[38;5;28;01melse\u001b[39;00m:\n\u001b[0;32m    797\u001b[0m         \u001b[38;5;66;03m# Binary mode\u001b[39;00m\n\u001b[0;32m    798\u001b[0m         handle \u001b[38;5;241m=\u001b[39m \u001b[38;5;28mopen\u001b[39m(handle, ioargs\u001b[38;5;241m.\u001b[39mmode)\n",
      "\u001b[1;31mFileNotFoundError\u001b[0m: [Errno 2] No such file or directory: 'data_set.csv'"
     ]
    }
   ],
   "source": [
    "import pandas as pd\n",
    "\n",
    "\n",
    "df=pd.read_csv(\"data_set.csv\",sep=';')\n",
    "\n",
    "df.head()\n"
   ]
  },
  {
   "cell_type": "markdown",
   "metadata": {
    "colab_type": "text",
    "id": "9wmI-_zNqHJU"
   },
   "source": [
    "-----------------\n",
    "# SECTION A: 20 MARKS\n",
    "--------------"
   ]
  },
  {
   "cell_type": "markdown",
   "metadata": {},
   "source": [
    "## 1. Answer the following questions \n",
    "\n",
    "A. Find out the percentage of missing values with the missing count in each column. (5 Marks)\n",
    "\n",
    "B. Given the columns 'ItemCategory2' and 'ItemCategory3'  fill the null value with 0 and change the data type into an integer.(3 Marks)\n",
    "\n",
    "C. Given the columns 'CustomerID' and 'Profession'  change the data type into a String. (2 Mark)\n"
   ]
  },
  {
   "cell_type": "markdown",
   "metadata": {},
   "source": [
    "#### A. Find out the percentage of missing values with the missing count in each column. (5 Marks)"
   ]
  },
  {
   "cell_type": "code",
   "execution_count": 6,
   "metadata": {},
   "outputs": [
    {
     "data": {
      "text/html": [
       "<div>\n",
       "<style scoped>\n",
       "    .dataframe tbody tr th:only-of-type {\n",
       "        vertical-align: middle;\n",
       "    }\n",
       "\n",
       "    .dataframe tbody tr th {\n",
       "        vertical-align: top;\n",
       "    }\n",
       "\n",
       "    .dataframe thead th {\n",
       "        text-align: right;\n",
       "    }\n",
       "</style>\n",
       "<table border=\"1\" class=\"dataframe\">\n",
       "  <thead>\n",
       "    <tr style=\"text-align: right;\">\n",
       "      <th></th>\n",
       "      <th>missing count</th>\n",
       "      <th>percentage of missing values</th>\n",
       "    </tr>\n",
       "  </thead>\n",
       "  <tbody>\n",
       "    <tr>\n",
       "      <th>ItemCategory3</th>\n",
       "      <td>707</td>\n",
       "      <td>67.915466</td>\n",
       "    </tr>\n",
       "    <tr>\n",
       "      <th>ItemCategory2</th>\n",
       "      <td>313</td>\n",
       "      <td>30.067243</td>\n",
       "    </tr>\n",
       "    <tr>\n",
       "      <th>HaveChildren</th>\n",
       "      <td>24</td>\n",
       "      <td>2.305476</td>\n",
       "    </tr>\n",
       "    <tr>\n",
       "      <th>Amount</th>\n",
       "      <td>0</td>\n",
       "      <td>0.000000</td>\n",
       "    </tr>\n",
       "    <tr>\n",
       "      <th>ItemCategory1</th>\n",
       "      <td>0</td>\n",
       "      <td>0.000000</td>\n",
       "    </tr>\n",
       "    <tr>\n",
       "      <th>YearsInCity</th>\n",
       "      <td>0</td>\n",
       "      <td>0.000000</td>\n",
       "    </tr>\n",
       "    <tr>\n",
       "      <th>CityType</th>\n",
       "      <td>0</td>\n",
       "      <td>0.000000</td>\n",
       "    </tr>\n",
       "    <tr>\n",
       "      <th>Profession</th>\n",
       "      <td>0</td>\n",
       "      <td>0.000000</td>\n",
       "    </tr>\n",
       "    <tr>\n",
       "      <th>Age</th>\n",
       "      <td>0</td>\n",
       "      <td>0.000000</td>\n",
       "    </tr>\n",
       "    <tr>\n",
       "      <th>Sex</th>\n",
       "      <td>0</td>\n",
       "      <td>0.000000</td>\n",
       "    </tr>\n",
       "    <tr>\n",
       "      <th>ItemID</th>\n",
       "      <td>0</td>\n",
       "      <td>0.000000</td>\n",
       "    </tr>\n",
       "    <tr>\n",
       "      <th>CustomerID</th>\n",
       "      <td>0</td>\n",
       "      <td>0.000000</td>\n",
       "    </tr>\n",
       "  </tbody>\n",
       "</table>\n",
       "</div>"
      ],
      "text/plain": [
       "               missing count  percentage of missing values\n",
       "ItemCategory3            707                     67.915466\n",
       "ItemCategory2            313                     30.067243\n",
       "HaveChildren              24                      2.305476\n",
       "Amount                     0                      0.000000\n",
       "ItemCategory1              0                      0.000000\n",
       "YearsInCity                0                      0.000000\n",
       "CityType                   0                      0.000000\n",
       "Profession                 0                      0.000000\n",
       "Age                        0                      0.000000\n",
       "Sex                        0                      0.000000\n",
       "ItemID                     0                      0.000000\n",
       "CustomerID                 0                      0.000000"
      ]
     },
     "execution_count": 6,
     "metadata": {},
     "output_type": "execute_result"
    }
   ],
   "source": [
    "missing=df.isnull().sum().sort_values(ascending=False)\n",
    "\n",
    "percent=((df.isnull().sum()/df.shape[0])*100).sort_values(ascending=False)\n",
    "\n",
    "data=pd.concat([missing,percent],axis=1,keys=['missing count','percentage of missing values'])\n",
    "\n",
    "data\n",
    "# Item Category 3 has the highest null values in the data, with 67 percent of it being missing"
   ]
  },
  {
   "cell_type": "markdown",
   "metadata": {},
   "source": [
    "#### B. Given the columns 'ItemCategory2' and 'ItemCategory3'  fill the null value with 0 and change the data type into an integer.(3 Marks)"
   ]
  },
  {
   "cell_type": "code",
   "execution_count": 13,
   "metadata": {},
   "outputs": [
    {
     "data": {
      "text/plain": [
       "CustomerID        0\n",
       "ItemID            0\n",
       "Sex               0\n",
       "Age               0\n",
       "Profession        0\n",
       "CityType          0\n",
       "YearsInCity       0\n",
       "HaveChildren     24\n",
       "ItemCategory1     0\n",
       "ItemCategory2     0\n",
       "ItemCategory3     0\n",
       "Amount            0\n",
       "dtype: int64"
      ]
     },
     "execution_count": 13,
     "metadata": {},
     "output_type": "execute_result"
    }
   ],
   "source": [
    "df['ItemCategory3'].fillna(value=0,inplace=True)\n",
    "df['ItemCategory2'].fillna(value=0,inplace=True)\n",
    "df.isnull().sum()\n",
    "\n",
    "# Null values for the mentioned columns have been imputed with 0"
   ]
  },
  {
   "cell_type": "code",
   "execution_count": 16,
   "metadata": {},
   "outputs": [
    {
     "name": "stdout",
     "output_type": "stream",
     "text": [
      "<class 'pandas.core.frame.DataFrame'>\n",
      "RangeIndex: 1041 entries, 0 to 1040\n",
      "Data columns (total 12 columns):\n",
      "CustomerID       1041 non-null int64\n",
      "ItemID           1041 non-null object\n",
      "Sex              1041 non-null object\n",
      "Age              1041 non-null object\n",
      "Profession       1041 non-null int64\n",
      "CityType         1041 non-null object\n",
      "YearsInCity      1041 non-null object\n",
      "HaveChildren     1017 non-null float64\n",
      "ItemCategory1    1041 non-null int64\n",
      "ItemCategory2    1041 non-null int64\n",
      "ItemCategory3    1041 non-null int64\n",
      "Amount           1041 non-null int64\n",
      "dtypes: float64(1), int64(6), object(5)\n",
      "memory usage: 97.7+ KB\n"
     ]
    }
   ],
   "source": [
    "df['ItemCategory2']=df.ItemCategory2.astype(int)\n",
    "df['ItemCategory3']=df.ItemCategory3.astype(int)\n",
    "df.info()\n",
    "\n",
    "# Both have been converted to int type"
   ]
  },
  {
   "cell_type": "markdown",
   "metadata": {},
   "source": [
    "#### C. Given the columns 'CustomerID' and 'Profession'  change the data type into a String. (2 Mark)\n"
   ]
  },
  {
   "cell_type": "code",
   "execution_count": 25,
   "metadata": {},
   "outputs": [],
   "source": [
    "df['CustomerID']=df['CustomerID'].astype(str)\n",
    "df['Profession']=df['Profession'].astype(str)\n",
    "\n",
    "# Both the mentioned categories have been converted to string type"
   ]
  },
  {
   "cell_type": "code",
   "execution_count": 26,
   "metadata": {},
   "outputs": [
    {
     "data": {
      "text/plain": [
       "str"
      ]
     },
     "execution_count": 26,
     "metadata": {},
     "output_type": "execute_result"
    }
   ],
   "source": [
    "type(df['CustomerID'][0])"
   ]
  },
  {
   "cell_type": "code",
   "execution_count": 28,
   "metadata": {},
   "outputs": [
    {
     "data": {
      "text/plain": [
       "str"
      ]
     },
     "execution_count": 28,
     "metadata": {},
     "output_type": "execute_result"
    }
   ],
   "source": [
    "type(df['Profession'][0])"
   ]
  },
  {
   "cell_type": "markdown",
   "metadata": {},
   "source": [
    "### 2. Answer the following questions \n",
    "\n",
    "A. To deal with categorical data, build a function to create dummy variables for all the columns related to a category. (4 Marks)\n",
    "\n",
    "B. Create a table by grouping the unique customers, also join the table with other demography features.(6 Marks)\n",
    " \n"
   ]
  },
  {
   "cell_type": "code",
   "execution_count": 29,
   "metadata": {},
   "outputs": [],
   "source": [
    "def dummy(data):\n",
    "    cat_columns=[]\n",
    "    for i in data.select_dtypes(include='object').columns:\n",
    "        cat_columns.append(i)\n",
    "    data=pd.get_dummies(data,cat_columns,drop_first=True)\n",
    "    return(data)"
   ]
  },
  {
   "cell_type": "code",
   "execution_count": 30,
   "metadata": {},
   "outputs": [],
   "source": [
    "df1=df.copy()"
   ]
  },
  {
   "cell_type": "code",
   "execution_count": 32,
   "metadata": {},
   "outputs": [
    {
     "data": {
      "text/html": [
       "<div>\n",
       "<style scoped>\n",
       "    .dataframe tbody tr th:only-of-type {\n",
       "        vertical-align: middle;\n",
       "    }\n",
       "\n",
       "    .dataframe tbody tr th {\n",
       "        vertical-align: top;\n",
       "    }\n",
       "\n",
       "    .dataframe thead th {\n",
       "        text-align: right;\n",
       "    }\n",
       "</style>\n",
       "<table border=\"1\" class=\"dataframe\">\n",
       "  <thead>\n",
       "    <tr style=\"text-align: right;\">\n",
       "      <th></th>\n",
       "      <th>HaveChildren</th>\n",
       "      <th>ItemCategory1</th>\n",
       "      <th>ItemCategory2</th>\n",
       "      <th>ItemCategory3</th>\n",
       "      <th>Amount</th>\n",
       "      <th>CustomerID_1000002</th>\n",
       "      <th>CustomerID_1000003</th>\n",
       "      <th>CustomerID_1000004</th>\n",
       "      <th>CustomerID_1000005</th>\n",
       "      <th>CustomerID_1000006</th>\n",
       "      <th>...</th>\n",
       "      <th>Profession_6</th>\n",
       "      <th>Profession_7</th>\n",
       "      <th>Profession_8</th>\n",
       "      <th>Profession_9</th>\n",
       "      <th>CityType_B</th>\n",
       "      <th>CityType_C</th>\n",
       "      <th>YearsInCity_1</th>\n",
       "      <th>YearsInCity_2</th>\n",
       "      <th>YearsInCity_3</th>\n",
       "      <th>YearsInCity_4+</th>\n",
       "    </tr>\n",
       "  </thead>\n",
       "  <tbody>\n",
       "    <tr>\n",
       "      <th>0</th>\n",
       "      <td>0.0</td>\n",
       "      <td>3</td>\n",
       "      <td>0</td>\n",
       "      <td>0</td>\n",
       "      <td>8370</td>\n",
       "      <td>0</td>\n",
       "      <td>0</td>\n",
       "      <td>0</td>\n",
       "      <td>0</td>\n",
       "      <td>0</td>\n",
       "      <td>...</td>\n",
       "      <td>0</td>\n",
       "      <td>0</td>\n",
       "      <td>0</td>\n",
       "      <td>0</td>\n",
       "      <td>0</td>\n",
       "      <td>0</td>\n",
       "      <td>0</td>\n",
       "      <td>1</td>\n",
       "      <td>0</td>\n",
       "      <td>0</td>\n",
       "    </tr>\n",
       "    <tr>\n",
       "      <th>1</th>\n",
       "      <td>0.0</td>\n",
       "      <td>1</td>\n",
       "      <td>6</td>\n",
       "      <td>14</td>\n",
       "      <td>15200</td>\n",
       "      <td>0</td>\n",
       "      <td>0</td>\n",
       "      <td>0</td>\n",
       "      <td>0</td>\n",
       "      <td>0</td>\n",
       "      <td>...</td>\n",
       "      <td>0</td>\n",
       "      <td>0</td>\n",
       "      <td>0</td>\n",
       "      <td>0</td>\n",
       "      <td>0</td>\n",
       "      <td>0</td>\n",
       "      <td>0</td>\n",
       "      <td>1</td>\n",
       "      <td>0</td>\n",
       "      <td>0</td>\n",
       "    </tr>\n",
       "    <tr>\n",
       "      <th>2</th>\n",
       "      <td>0.0</td>\n",
       "      <td>12</td>\n",
       "      <td>0</td>\n",
       "      <td>0</td>\n",
       "      <td>1422</td>\n",
       "      <td>0</td>\n",
       "      <td>0</td>\n",
       "      <td>0</td>\n",
       "      <td>0</td>\n",
       "      <td>0</td>\n",
       "      <td>...</td>\n",
       "      <td>0</td>\n",
       "      <td>0</td>\n",
       "      <td>0</td>\n",
       "      <td>0</td>\n",
       "      <td>0</td>\n",
       "      <td>0</td>\n",
       "      <td>0</td>\n",
       "      <td>1</td>\n",
       "      <td>0</td>\n",
       "      <td>0</td>\n",
       "    </tr>\n",
       "    <tr>\n",
       "      <th>3</th>\n",
       "      <td>0.0</td>\n",
       "      <td>12</td>\n",
       "      <td>14</td>\n",
       "      <td>0</td>\n",
       "      <td>1057</td>\n",
       "      <td>0</td>\n",
       "      <td>0</td>\n",
       "      <td>0</td>\n",
       "      <td>0</td>\n",
       "      <td>0</td>\n",
       "      <td>...</td>\n",
       "      <td>0</td>\n",
       "      <td>0</td>\n",
       "      <td>0</td>\n",
       "      <td>0</td>\n",
       "      <td>0</td>\n",
       "      <td>0</td>\n",
       "      <td>0</td>\n",
       "      <td>1</td>\n",
       "      <td>0</td>\n",
       "      <td>0</td>\n",
       "    </tr>\n",
       "    <tr>\n",
       "      <th>4</th>\n",
       "      <td>0.0</td>\n",
       "      <td>8</td>\n",
       "      <td>0</td>\n",
       "      <td>0</td>\n",
       "      <td>7969</td>\n",
       "      <td>1</td>\n",
       "      <td>0</td>\n",
       "      <td>0</td>\n",
       "      <td>0</td>\n",
       "      <td>0</td>\n",
       "      <td>...</td>\n",
       "      <td>0</td>\n",
       "      <td>0</td>\n",
       "      <td>0</td>\n",
       "      <td>0</td>\n",
       "      <td>0</td>\n",
       "      <td>1</td>\n",
       "      <td>0</td>\n",
       "      <td>0</td>\n",
       "      <td>0</td>\n",
       "      <td>1</td>\n",
       "    </tr>\n",
       "  </tbody>\n",
       "</table>\n",
       "<p>5 rows × 931 columns</p>\n",
       "</div>"
      ],
      "text/plain": [
       "   HaveChildren  ItemCategory1  ItemCategory2  ItemCategory3  Amount  \\\n",
       "0           0.0              3              0              0    8370   \n",
       "1           0.0              1              6             14   15200   \n",
       "2           0.0             12              0              0    1422   \n",
       "3           0.0             12             14              0    1057   \n",
       "4           0.0              8              0              0    7969   \n",
       "\n",
       "   CustomerID_1000002  CustomerID_1000003  CustomerID_1000004  \\\n",
       "0                   0                   0                   0   \n",
       "1                   0                   0                   0   \n",
       "2                   0                   0                   0   \n",
       "3                   0                   0                   0   \n",
       "4                   1                   0                   0   \n",
       "\n",
       "   CustomerID_1000005  CustomerID_1000006  ...  Profession_6  Profession_7  \\\n",
       "0                   0                   0  ...             0             0   \n",
       "1                   0                   0  ...             0             0   \n",
       "2                   0                   0  ...             0             0   \n",
       "3                   0                   0  ...             0             0   \n",
       "4                   0                   0  ...             0             0   \n",
       "\n",
       "   Profession_8  Profession_9  CityType_B  CityType_C  YearsInCity_1  \\\n",
       "0             0             0           0           0              0   \n",
       "1             0             0           0           0              0   \n",
       "2             0             0           0           0              0   \n",
       "3             0             0           0           0              0   \n",
       "4             0             0           0           1              0   \n",
       "\n",
       "   YearsInCity_2  YearsInCity_3  YearsInCity_4+  \n",
       "0              1              0               0  \n",
       "1              1              0               0  \n",
       "2              1              0               0  \n",
       "3              1              0               0  \n",
       "4              0              0               1  \n",
       "\n",
       "[5 rows x 931 columns]"
      ]
     },
     "execution_count": 32,
     "metadata": {},
     "output_type": "execute_result"
    }
   ],
   "source": [
    "dummy(df1).head()"
   ]
  },
  {
   "cell_type": "code",
   "execution_count": 134,
   "metadata": {},
   "outputs": [
    {
     "data": {
      "text/html": [
       "<div>\n",
       "<style scoped>\n",
       "    .dataframe tbody tr th:only-of-type {\n",
       "        vertical-align: middle;\n",
       "    }\n",
       "\n",
       "    .dataframe tbody tr th {\n",
       "        vertical-align: top;\n",
       "    }\n",
       "\n",
       "    .dataframe thead th {\n",
       "        text-align: right;\n",
       "    }\n",
       "</style>\n",
       "<table border=\"1\" class=\"dataframe\">\n",
       "  <thead>\n",
       "    <tr style=\"text-align: right;\">\n",
       "      <th></th>\n",
       "      <th>CustomerID</th>\n",
       "      <th>ItemID</th>\n",
       "      <th>Sex</th>\n",
       "      <th>Age</th>\n",
       "      <th>Profession</th>\n",
       "      <th>CityType</th>\n",
       "      <th>YearsInCity</th>\n",
       "      <th>HaveChildren</th>\n",
       "      <th>ItemCategory1</th>\n",
       "      <th>ItemCategory2</th>\n",
       "      <th>ItemCategory3</th>\n",
       "      <th>Amount</th>\n",
       "    </tr>\n",
       "  </thead>\n",
       "  <tbody>\n",
       "    <tr>\n",
       "      <th>0</th>\n",
       "      <td>1000001</td>\n",
       "      <td>P00069042</td>\n",
       "      <td>F</td>\n",
       "      <td>0-17</td>\n",
       "      <td>10</td>\n",
       "      <td>A</td>\n",
       "      <td>2</td>\n",
       "      <td>0.0</td>\n",
       "      <td>7.0</td>\n",
       "      <td>5.0</td>\n",
       "      <td>3.500000</td>\n",
       "      <td>6512.250000</td>\n",
       "    </tr>\n",
       "    <tr>\n",
       "      <th>1</th>\n",
       "      <td>1000002</td>\n",
       "      <td>P00285442</td>\n",
       "      <td>M</td>\n",
       "      <td>55+</td>\n",
       "      <td>16</td>\n",
       "      <td>C</td>\n",
       "      <td>4+</td>\n",
       "      <td>0.0</td>\n",
       "      <td>8.0</td>\n",
       "      <td>0.0</td>\n",
       "      <td>0.000000</td>\n",
       "      <td>7969.000000</td>\n",
       "    </tr>\n",
       "    <tr>\n",
       "      <th>2</th>\n",
       "      <td>1000003</td>\n",
       "      <td>P00193542</td>\n",
       "      <td>M</td>\n",
       "      <td>26-35</td>\n",
       "      <td>15</td>\n",
       "      <td>A</td>\n",
       "      <td>3</td>\n",
       "      <td>0.0</td>\n",
       "      <td>1.0</td>\n",
       "      <td>2.0</td>\n",
       "      <td>0.000000</td>\n",
       "      <td>15227.000000</td>\n",
       "    </tr>\n",
       "    <tr>\n",
       "      <th>3</th>\n",
       "      <td>1000004</td>\n",
       "      <td>P00184942</td>\n",
       "      <td>M</td>\n",
       "      <td>46-50</td>\n",
       "      <td>7</td>\n",
       "      <td>B</td>\n",
       "      <td>2</td>\n",
       "      <td>1.0</td>\n",
       "      <td>1.0</td>\n",
       "      <td>13.0</td>\n",
       "      <td>5.666667</td>\n",
       "      <td>16918.333333</td>\n",
       "    </tr>\n",
       "    <tr>\n",
       "      <th>4</th>\n",
       "      <td>1000005</td>\n",
       "      <td>P00274942</td>\n",
       "      <td>M</td>\n",
       "      <td>26-35</td>\n",
       "      <td>20</td>\n",
       "      <td>A</td>\n",
       "      <td>1</td>\n",
       "      <td>1.0</td>\n",
       "      <td>6.0</td>\n",
       "      <td>2.6</td>\n",
       "      <td>1.000000</td>\n",
       "      <td>7764.000000</td>\n",
       "    </tr>\n",
       "  </tbody>\n",
       "</table>\n",
       "</div>"
      ],
      "text/plain": [
       "  CustomerID     ItemID Sex    Age Profession CityType YearsInCity  \\\n",
       "0    1000001  P00069042   F   0-17         10        A           2   \n",
       "1    1000002  P00285442   M    55+         16        C          4+   \n",
       "2    1000003  P00193542   M  26-35         15        A           3   \n",
       "3    1000004  P00184942   M  46-50          7        B           2   \n",
       "4    1000005  P00274942   M  26-35         20        A           1   \n",
       "\n",
       "   HaveChildren  ItemCategory1  ItemCategory2  ItemCategory3        Amount  \n",
       "0           0.0            7.0            5.0       3.500000   6512.250000  \n",
       "1           0.0            8.0            0.0       0.000000   7969.000000  \n",
       "2           0.0            1.0            2.0       0.000000  15227.000000  \n",
       "3           1.0            1.0           13.0       5.666667  16918.333333  \n",
       "4           1.0            6.0            2.6       1.000000   7764.000000  "
      ]
     },
     "execution_count": 134,
     "metadata": {},
     "output_type": "execute_result"
    }
   ],
   "source": [
    "#B\n",
    "d1=df.groupby(by='CustomerID').mean()\n",
    "d2=df.groupby(by='CustomerID').head(1).select_dtypes(include='object')\n",
    "d3=pd.merge(d2,d1,on='CustomerID')\n",
    "d3.head()"
   ]
  },
  {
   "cell_type": "markdown",
   "metadata": {
    "colab_type": "text",
    "id": "5TiQy07cqHJt"
   },
   "source": [
    "---------------\n",
    "# SECTION B: 20 MARKS\n",
    "------------"
   ]
  },
  {
   "cell_type": "markdown",
   "metadata": {},
   "source": [
    "### 4. Answer the following questions\n",
    "\n",
    "A. Create a user-defined function for plotting all the features distribution with customerID. Each plot should display the two different graphs[Bar plot, pie chart].(7 Marks)\n",
    "\n",
    "B. Create a user-defined function for showing the proportion of the sub-categories using tabular format. (3 marks)\n",
    "\n",
    "C. Plot distribution of the below mentioned variables using the above function and write your observations. (10 Marks)\n",
    "\n",
    "i. Customer distribution by Sex.\n",
    "\n",
    "ii.Customer distribution by Age.\n",
    "\n",
    "iii.Customer distribution by Profession.\n",
    "\n",
    "iv.Customer distribution by With Children or Not.\n",
    "\n",
    "v.Customer distribution by City Type.\n"
   ]
  },
  {
   "cell_type": "markdown",
   "metadata": {},
   "source": [
    "#### A. Create a user-defined function for plotting all the features distribution with customerID. Each plot should display the three different graphs[Bar plot, pie chart, table]. (7 Marks)"
   ]
  },
  {
   "cell_type": "code",
   "execution_count": 60,
   "metadata": {},
   "outputs": [],
   "source": [
    "\n",
    "def plot(x):\n",
    "    plt.subplot(1,2,1)  \n",
    "    plt.title('Pie chart of {} vs CustomerID'.format(x))\n",
    "    df.groupby(by=x)['CustomerID'].count().plot(kind='pie',autopct='%.2f%%')\n",
    "    plt.subplot(1,2,2)       \n",
    "    plt.title('Bar graph of {} vs CustomerID'.format(x))\n",
    "    df.groupby(by=x)['CustomerID'].count().plot(kind='bar')\n",
    "    plt.show()"
   ]
  },
  {
   "cell_type": "markdown",
   "metadata": {},
   "source": [
    "#### B. Create a user-defined function for showing the table. (3 marks)"
   ]
  },
  {
   "cell_type": "code",
   "execution_count": 138,
   "metadata": {},
   "outputs": [],
   "source": [
    "def table(df1,col1,col2):\n",
    "    return pd.crosstab(df1[col1],df1[col2])"
   ]
  },
  {
   "cell_type": "code",
   "execution_count": 141,
   "metadata": {},
   "outputs": [
    {
     "data": {
      "text/html": [
       "<div>\n",
       "<style scoped>\n",
       "    .dataframe tbody tr th:only-of-type {\n",
       "        vertical-align: middle;\n",
       "    }\n",
       "\n",
       "    .dataframe tbody tr th {\n",
       "        vertical-align: top;\n",
       "    }\n",
       "\n",
       "    .dataframe thead th {\n",
       "        text-align: right;\n",
       "    }\n",
       "</style>\n",
       "<table border=\"1\" class=\"dataframe\">\n",
       "  <thead>\n",
       "    <tr style=\"text-align: right;\">\n",
       "      <th>Sex</th>\n",
       "      <th>F</th>\n",
       "      <th>M</th>\n",
       "    </tr>\n",
       "    <tr>\n",
       "      <th>CustomerID</th>\n",
       "      <th></th>\n",
       "      <th></th>\n",
       "    </tr>\n",
       "  </thead>\n",
       "  <tbody>\n",
       "    <tr>\n",
       "      <th>1000001</th>\n",
       "      <td>4</td>\n",
       "      <td>0</td>\n",
       "    </tr>\n",
       "    <tr>\n",
       "      <th>1000002</th>\n",
       "      <td>0</td>\n",
       "      <td>1</td>\n",
       "    </tr>\n",
       "    <tr>\n",
       "      <th>1000003</th>\n",
       "      <td>0</td>\n",
       "      <td>1</td>\n",
       "    </tr>\n",
       "    <tr>\n",
       "      <th>1000004</th>\n",
       "      <td>0</td>\n",
       "      <td>3</td>\n",
       "    </tr>\n",
       "    <tr>\n",
       "      <th>1000005</th>\n",
       "      <td>0</td>\n",
       "      <td>5</td>\n",
       "    </tr>\n",
       "  </tbody>\n",
       "</table>\n",
       "</div>"
      ],
      "text/plain": [
       "Sex         F  M\n",
       "CustomerID      \n",
       "1000001     4  0\n",
       "1000002     0  1\n",
       "1000003     0  1\n",
       "1000004     0  3\n",
       "1000005     0  5"
      ]
     },
     "execution_count": 141,
     "metadata": {},
     "output_type": "execute_result"
    }
   ],
   "source": [
    "table(df,'CustomerID','Sex').head()"
   ]
  },
  {
   "cell_type": "code",
   "execution_count": 143,
   "metadata": {},
   "outputs": [
    {
     "name": "stdout",
     "output_type": "stream",
     "text": [
      "1000169    0.027858\n",
      "1000053    0.027858\n",
      "1000173    0.025937\n",
      "1000048    0.025937\n",
      "1000151    0.023055\n",
      "1000146    0.023055\n",
      "1000163    0.023055\n",
      "1000036    0.022094\n",
      "1000166    0.021134\n",
      "1000149    0.021134\n",
      "1000148    0.019212\n",
      "1000123    0.018252\n",
      "1000010    0.017291\n",
      "1000117    0.015370\n",
      "1000093    0.015370\n",
      "1000092    0.014409\n",
      "1000018    0.014409\n",
      "1000059    0.014409\n",
      "1000062    0.014409\n",
      "1000033    0.014409\n",
      "1000139    0.013449\n",
      "1000022    0.013449\n",
      "1000136    0.013449\n",
      "1000090    0.013449\n",
      "1000044    0.012488\n",
      "1000058    0.012488\n",
      "1000161    0.011527\n",
      "1000023    0.011527\n",
      "1000118    0.011527\n",
      "1000019    0.011527\n",
      "             ...   \n",
      "1000121    0.001921\n",
      "1000054    0.001921\n",
      "1000012    0.001921\n",
      "1000074    0.001921\n",
      "1000051    0.000961\n",
      "1000032    0.000961\n",
      "1000003    0.000961\n",
      "1000171    0.000961\n",
      "1000002    0.000961\n",
      "1000108    0.000961\n",
      "1000085    0.000961\n",
      "1000021    0.000961\n",
      "1000128    0.000961\n",
      "1000066    0.000961\n",
      "1000112    0.000961\n",
      "1000159    0.000961\n",
      "1000037    0.000961\n",
      "1000007    0.000961\n",
      "1000124    0.000961\n",
      "1000014    0.000961\n",
      "1000122    0.000961\n",
      "1000061    0.000961\n",
      "1000081    0.000961\n",
      "1000110    0.000961\n",
      "1000120    0.000961\n",
      "1000172    0.000961\n",
      "1000152    0.000961\n",
      "1000064    0.000961\n",
      "1000094    0.000961\n",
      "1000043    0.000961\n",
      "Name: CustomerID, Length: 163, dtype: float64\n",
      "\n",
      "P00184942    0.006724\n",
      "P00351142    0.006724\n",
      "P00248942    0.005764\n",
      "P00000642    0.004803\n",
      "P00036842    0.004803\n",
      "P00021742    0.004803\n",
      "P00277442    0.003842\n",
      "P00213742    0.003842\n",
      "P00127242    0.003842\n",
      "P00010842    0.003842\n",
      "P00145042    0.003842\n",
      "P00051442    0.003842\n",
      "P00334242    0.003842\n",
      "P00274942    0.003842\n",
      "P00113242    0.003842\n",
      "P00338442    0.003842\n",
      "P00251342    0.003842\n",
      "P00223242    0.003842\n",
      "P00111542    0.002882\n",
      "P00278642    0.002882\n",
      "P00283942    0.002882\n",
      "P00100842    0.002882\n",
      "P00058442    0.002882\n",
      "P00120342    0.002882\n",
      "P00304442    0.002882\n",
      "P00028842    0.002882\n",
      "P00112142    0.002882\n",
      "P00002542    0.002882\n",
      "P00209842    0.002882\n",
      "P00317842    0.002882\n",
      "               ...   \n",
      "P00170642    0.000961\n",
      "P00289542    0.000961\n",
      "P00162642    0.000961\n",
      "P00227742    0.000961\n",
      "P00218642    0.000961\n",
      "P00312742    0.000961\n",
      "P00298142    0.000961\n",
      "P00102542    0.000961\n",
      "P00195942    0.000961\n",
      "P00266842    0.000961\n",
      "P00154042    0.000961\n",
      "P00237542    0.000961\n",
      "P00211042    0.000961\n",
      "P00241542    0.000961\n",
      "P00020042    0.000961\n",
      "P0094542     0.000961\n",
      "P00128042    0.000961\n",
      "P00194542    0.000961\n",
      "P00134342    0.000961\n",
      "P00150142    0.000961\n",
      "P00208342    0.000961\n",
      "P00141842    0.000961\n",
      "P00219242    0.000961\n",
      "P00014842    0.000961\n",
      "P00022942    0.000961\n",
      "P00115442    0.000961\n",
      "P00102642    0.000961\n",
      "P00090842    0.000961\n",
      "P00178642    0.000961\n",
      "P00189642    0.000961\n",
      "Name: ItemID, Length: 732, dtype: float64\n",
      "\n",
      "M    0.711816\n",
      "F    0.288184\n",
      "Name: Sex, dtype: float64\n",
      "\n",
      "26-35    0.366955\n",
      "18-25    0.205572\n",
      "36-45    0.192123\n",
      "46-50    0.116234\n",
      "51-55    0.051873\n",
      "0-17     0.040346\n",
      "55+      0.026897\n",
      "Name: Age, dtype: float64\n",
      "\n",
      "4     0.147935\n",
      "17    0.102786\n",
      "7     0.100865\n",
      "1     0.096061\n",
      "0     0.095101\n",
      "3     0.085495\n",
      "20    0.074928\n",
      "16    0.048031\n",
      "2     0.043228\n",
      "10    0.040346\n",
      "12    0.033622\n",
      "9     0.026897\n",
      "15    0.019212\n",
      "11    0.015370\n",
      "14    0.014409\n",
      "19    0.013449\n",
      "13    0.013449\n",
      "6     0.009606\n",
      "8     0.009606\n",
      "18    0.006724\n",
      "5     0.002882\n",
      "Name: Profession, dtype: float64\n",
      "\n",
      "B    0.433237\n",
      "C    0.352546\n",
      "A    0.214217\n",
      "Name: CityType, dtype: float64\n",
      "\n",
      "1     0.333333\n",
      "3     0.236311\n",
      "4+    0.195005\n",
      "2     0.142171\n",
      "0     0.093180\n",
      "Name: YearsInCity, dtype: float64\n",
      "\n"
     ]
    }
   ],
   "source": [
    "\n",
    "for i in df.columns:\n",
    "    if df[i].dtype=='object':\n",
    "        print(df[i].value_counts(normalize=True))\n",
    "        print()"
   ]
  },
  {
   "cell_type": "markdown",
   "metadata": {},
   "source": [
    "#### C. Plot distribution using the above function and write your observations. (10 Marks)\n",
    "\n",
    "i. Customer distribution by Sex.\n",
    "\n",
    "ii.Customer distribution by Age.\n",
    "\n",
    "iii.Customer distribution by Profession.\n",
    "\n",
    "iv.Customer distribution by With Children or Not.\n",
    "\n",
    "v.Customer distribution by City Type.\n"
   ]
  },
  {
   "cell_type": "code",
   "execution_count": 61,
   "metadata": {},
   "outputs": [
    {
     "data": {
      "image/png": "[encoded data removed]",
      "text/plain": [
       "<Figure size 1080x576 with 2 Axes>"
      ]
     },
     "metadata": {
      "needs_background": "light"
     },
     "output_type": "display_data"
    }
   ],
   "source": [
    "#i\n",
    "plot('Sex')\n",
    "\n",
    "# 71% of the people in the data are men, so the sex ratio in the data is imbalanced"
   ]
  },
  {
   "cell_type": "code",
   "execution_count": 62,
   "metadata": {},
   "outputs": [
    {
     "data": {
      "image/png": "[encoded data removed]",
      "text/plain": [
       "<Figure size 1080x576 with 2 Axes>"
      ]
     },
     "metadata": {
      "needs_background": "light"
     },
     "output_type": "display_data"
    }
   ],
   "source": [
    "plot('Age')\n",
    "\n",
    "# More than 85 percent of people are in the range of 18-50, which implies that most of the customers \n",
    "# who buy are in working class"
   ]
  },
  {
   "cell_type": "code",
   "execution_count": 63,
   "metadata": {},
   "outputs": [
    {
     "data": {
      "image/png": "[encoded data removed]",
      "text/plain": [
       "<Figure size 1080x576 with 2 Axes>"
      ]
     },
     "metadata": {
      "needs_background": "light"
     },
     "output_type": "display_data"
    }
   ],
   "source": [
    "plot('Profession')\n",
    "# Most of the customers in the data fall in the Professional category 4"
   ]
  },
  {
   "cell_type": "code",
   "execution_count": 64,
   "metadata": {},
   "outputs": [
    {
     "data": {
      "image/png": "[encoded data removed]",
      "text/plain": [
       "<Figure size 1080x576 with 2 Axes>"
      ]
     },
     "metadata": {
      "needs_background": "light"
     },
     "output_type": "display_data"
    }
   ],
   "source": [
    "plot('HaveChildren')\n",
    "# The data is balanced as far as Have Children vs CustomerID is concerned."
   ]
  },
  {
   "cell_type": "code",
   "execution_count": 65,
   "metadata": {},
   "outputs": [
    {
     "data": {
      "image/png": "[encoded data removed]",
      "text/plain": [
       "<Figure size 1080x576 with 2 Axes>"
      ]
     },
     "metadata": {
      "needs_background": "light"
     },
     "output_type": "display_data"
    }
   ],
   "source": [
    "plot('CityType')\n",
    "#More than 40 percent of the people comming to the shop live in CITY TYPE B."
   ]
  },
  {
   "cell_type": "markdown",
   "metadata": {
    "colab_type": "text",
    "id": "qRH1S0TkqHJ4"
   },
   "source": [
    "------------\n",
    "# SECTION C: 30 MARKS\n",
    "\n",
    "-------------------"
   ]
  },
  {
   "cell_type": "markdown",
   "metadata": {},
   "source": [
    "### 5. Answer the following questions\n",
    "\n",
    "A. Check the correlation matrix for all numeric variables. Observe and name the Strong positive and Negative correlations columns.(5 Marks)\n",
    "\n",
    "B. Define a bar chart function to plot all the features['Sex', 'Age', 'Profession','CityType', 'YearsInCity', 'HaveChildren']and find out who spent most of the money? (5 Marks)\n",
    " \n",
    "C.Define a function to show a table, which shows the amount spent based on features ['Sex', 'Age', 'Profession','CityType', 'YearsInCity', 'HaveChildren'] of the customers.Write your observations. (10 Marks)\n",
    "\n",
    "D. Create a user-defined function to drop or fill all the null values and encoding all the categorical data into numerical data? (5 Marks)\n",
    "\n",
    "E. Split the dataset into train and test (80:20) and the target column is HaveChildren? How would you ascertain this statistically? (5marks)"
   ]
  },
  {
   "cell_type": "code",
   "execution_count": 72,
   "metadata": {},
   "outputs": [
    {
     "data": {
      "image/png": "[encoded data removed]",
      "text/plain": [
       "<Figure size 1080x576 with 2 Axes>"
      ]
     },
     "metadata": {
      "needs_background": "light"
     },
     "output_type": "display_data"
    }
   ],
   "source": [
    "#A\n",
    "sns.heatmap(df.corr(),annot=True)\n",
    "plt.show()\n",
    "# Item Category 1 and Item Category 3 are strongly negatively correlated in the data.\n",
    "# Amount and Item Category 3 are strongly positively correlated in the data.\n",
    "# We can observe that Item Category 3 has the highest influence to the amount which people spend."
   ]
  },
  {
   "cell_type": "code",
   "execution_count": 96,
   "metadata": {},
   "outputs": [],
   "source": [
    "#B\n",
    "def barplot(l1):\n",
    "    plt.figure(figsize=(13,12))\n",
    "    for i in range(len(l1)):\n",
    "        plt.subplot(3,2,i+1)\n",
    "        plt.title('Bar graph of {} vs Amount'.format(l1[i]))\n",
    "        df.groupby(by=l1[i])['Amount'].sum().plot(kind='bar')\n",
    "        plt.tight_layout()"
   ]
  },
  {
   "cell_type": "code",
   "execution_count": 97,
   "metadata": {},
   "outputs": [
    {
     "data": {
      "image/png": "[encoded data removed]",
      "text/plain": [
       "<Figure size 936x864 with 6 Axes>"
      ]
     },
     "metadata": {
      "needs_background": "light"
     },
     "output_type": "display_data"
    }
   ],
   "source": [
    "barplot(['Sex', 'Age', 'Profession','CityType', 'YearsInCity', 'HaveChildren'])\n",
    "#Amongst the gender, MALE have spent the most money\n",
    "# People aged between 26-35 have spent the most money\n",
    "# People with profession id 4 have spent the most\n",
    "# People in City type B have spent the most money.\n",
    "# People who stay for 1 year have spent the most.\n",
    "#People who have children have spent the most money."
   ]
  },
  {
   "cell_type": "code",
   "execution_count": 121,
   "metadata": {},
   "outputs": [],
   "source": [
    "#C\n",
    "def table(l1):\n",
    "    for i in l1:\n",
    "        print('Total amount spent by {}'.format(i))\n",
    "        print(pd.pivot_table(data=df,values=['Amount'],index=i,aggfunc='sum'))\n",
    "        print()"
   ]
  },
  {
   "cell_type": "code",
   "execution_count": 122,
   "metadata": {},
   "outputs": [
    {
     "name": "stdout",
     "output_type": "stream",
     "text": [
      "Total amount spent by Sex\n",
      "      Amount\n",
      "Sex         \n",
      "F    2731435\n",
      "M    7289758\n",
      "\n",
      "Total amount spent by Age\n",
      "        Amount\n",
      "Age           \n",
      "0-17    422499\n",
      "18-25  2013697\n",
      "26-35  3734404\n",
      "36-45  2072154\n",
      "46-50  1123661\n",
      "51-55   440667\n",
      "55+     214111\n",
      "\n",
      "Total amount spent by Profession\n",
      "             Amount\n",
      "Profession         \n",
      "0           1017457\n",
      "1            897012\n",
      "10           422499\n",
      "11           216870\n",
      "12           380525\n",
      "13           100218\n",
      "14           158652\n",
      "15           185060\n",
      "16           483834\n",
      "17          1097831\n",
      "18            58773\n",
      "19            77103\n",
      "2            396388\n",
      "20           752641\n",
      "3            931029\n",
      "4           1364411\n",
      "5             25737\n",
      "6            114729\n",
      "7            956550\n",
      "8             91788\n",
      "9            292086\n",
      "\n",
      "Total amount spent by CityType\n",
      "           Amount\n",
      "CityType         \n",
      "A         1920757\n",
      "B         4542947\n",
      "C         3557489\n",
      "\n",
      "Total amount spent by YearsInCity\n",
      "              Amount\n",
      "YearsInCity         \n",
      "0             965530\n",
      "1            3227280\n",
      "2            1531993\n",
      "3            2277039\n",
      "4+           2019351\n",
      "\n",
      "Total amount spent by HaveChildren\n",
      "               Amount\n",
      "HaveChildren         \n",
      "0.0           4636292\n",
      "1.0           5147978\n",
      "\n"
     ]
    }
   ],
   "source": [
    "l1=['Sex', 'Age', 'Profession','CityType', 'YearsInCity', 'HaveChildren']\n",
    "table(l1)\n",
    "#Amongst the gender, MALE have spent the most money\n",
    "# People aged between 26-35 have spent the most money\n",
    "# People with profession id 4 have spent the most\n",
    "# People in City type B have spent the most money.\n",
    "# People who stay for 1 year have spent the most.\n",
    "#People who have children have spent the most money."
   ]
  },
  {
   "cell_type": "code",
   "execution_count": 128,
   "metadata": {},
   "outputs": [],
   "source": [
    "#D\n",
    "def fn(a):\n",
    "    cat_columns=[]\n",
    "    for i in a.columns:\n",
    "        if a[i].isnull().sum()/len(a)>50==True:\n",
    "            a.drop(columns=i,inplace=True)\n",
    "        else:\n",
    "            a[i].fillna(a[i].mean(),inplace=True)\n",
    "        for i in a.select_dtypes(include='object').columns:\n",
    "            cat_columns.append(i)\n",
    "        a=pd.get_dummies(data=a,columns=cat_columns,drop_first=True)\n",
    "        return a"
   ]
  },
  {
   "cell_type": "code",
   "execution_count": 129,
   "metadata": {},
   "outputs": [],
   "source": [
    "df1=df.copy()"
   ]
  },
  {
   "cell_type": "code",
   "execution_count": 131,
   "metadata": {},
   "outputs": [
    {
     "data": {
      "text/html": [
       "<div>\n",
       "<style scoped>\n",
       "    .dataframe tbody tr th:only-of-type {\n",
       "        vertical-align: middle;\n",
       "    }\n",
       "\n",
       "    .dataframe tbody tr th {\n",
       "        vertical-align: top;\n",
       "    }\n",
       "\n",
       "    .dataframe thead th {\n",
       "        text-align: right;\n",
       "    }\n",
       "</style>\n",
       "<table border=\"1\" class=\"dataframe\">\n",
       "  <thead>\n",
       "    <tr style=\"text-align: right;\">\n",
       "      <th></th>\n",
       "      <th>HaveChildren</th>\n",
       "      <th>ItemCategory1</th>\n",
       "      <th>ItemCategory2</th>\n",
       "      <th>ItemCategory3</th>\n",
       "      <th>Amount</th>\n",
       "      <th>CustomerID_1000002</th>\n",
       "      <th>CustomerID_1000003</th>\n",
       "      <th>CustomerID_1000004</th>\n",
       "      <th>CustomerID_1000005</th>\n",
       "      <th>CustomerID_1000006</th>\n",
       "      <th>...</th>\n",
       "      <th>Profession_6</th>\n",
       "      <th>Profession_7</th>\n",
       "      <th>Profession_8</th>\n",
       "      <th>Profession_9</th>\n",
       "      <th>CityType_B</th>\n",
       "      <th>CityType_C</th>\n",
       "      <th>YearsInCity_1</th>\n",
       "      <th>YearsInCity_2</th>\n",
       "      <th>YearsInCity_3</th>\n",
       "      <th>YearsInCity_4+</th>\n",
       "    </tr>\n",
       "  </thead>\n",
       "  <tbody>\n",
       "    <tr>\n",
       "      <th>0</th>\n",
       "      <td>0.0</td>\n",
       "      <td>3</td>\n",
       "      <td>0</td>\n",
       "      <td>0</td>\n",
       "      <td>8370</td>\n",
       "      <td>0</td>\n",
       "      <td>0</td>\n",
       "      <td>0</td>\n",
       "      <td>0</td>\n",
       "      <td>0</td>\n",
       "      <td>...</td>\n",
       "      <td>0</td>\n",
       "      <td>0</td>\n",
       "      <td>0</td>\n",
       "      <td>0</td>\n",
       "      <td>0</td>\n",
       "      <td>0</td>\n",
       "      <td>0</td>\n",
       "      <td>1</td>\n",
       "      <td>0</td>\n",
       "      <td>0</td>\n",
       "    </tr>\n",
       "    <tr>\n",
       "      <th>1</th>\n",
       "      <td>0.0</td>\n",
       "      <td>1</td>\n",
       "      <td>6</td>\n",
       "      <td>14</td>\n",
       "      <td>15200</td>\n",
       "      <td>0</td>\n",
       "      <td>0</td>\n",
       "      <td>0</td>\n",
       "      <td>0</td>\n",
       "      <td>0</td>\n",
       "      <td>...</td>\n",
       "      <td>0</td>\n",
       "      <td>0</td>\n",
       "      <td>0</td>\n",
       "      <td>0</td>\n",
       "      <td>0</td>\n",
       "      <td>0</td>\n",
       "      <td>0</td>\n",
       "      <td>1</td>\n",
       "      <td>0</td>\n",
       "      <td>0</td>\n",
       "    </tr>\n",
       "    <tr>\n",
       "      <th>2</th>\n",
       "      <td>0.0</td>\n",
       "      <td>12</td>\n",
       "      <td>0</td>\n",
       "      <td>0</td>\n",
       "      <td>1422</td>\n",
       "      <td>0</td>\n",
       "      <td>0</td>\n",
       "      <td>0</td>\n",
       "      <td>0</td>\n",
       "      <td>0</td>\n",
       "      <td>...</td>\n",
       "      <td>0</td>\n",
       "      <td>0</td>\n",
       "      <td>0</td>\n",
       "      <td>0</td>\n",
       "      <td>0</td>\n",
       "      <td>0</td>\n",
       "      <td>0</td>\n",
       "      <td>1</td>\n",
       "      <td>0</td>\n",
       "      <td>0</td>\n",
       "    </tr>\n",
       "    <tr>\n",
       "      <th>3</th>\n",
       "      <td>0.0</td>\n",
       "      <td>12</td>\n",
       "      <td>14</td>\n",
       "      <td>0</td>\n",
       "      <td>1057</td>\n",
       "      <td>0</td>\n",
       "      <td>0</td>\n",
       "      <td>0</td>\n",
       "      <td>0</td>\n",
       "      <td>0</td>\n",
       "      <td>...</td>\n",
       "      <td>0</td>\n",
       "      <td>0</td>\n",
       "      <td>0</td>\n",
       "      <td>0</td>\n",
       "      <td>0</td>\n",
       "      <td>0</td>\n",
       "      <td>0</td>\n",
       "      <td>1</td>\n",
       "      <td>0</td>\n",
       "      <td>0</td>\n",
       "    </tr>\n",
       "    <tr>\n",
       "      <th>4</th>\n",
       "      <td>0.0</td>\n",
       "      <td>8</td>\n",
       "      <td>0</td>\n",
       "      <td>0</td>\n",
       "      <td>7969</td>\n",
       "      <td>1</td>\n",
       "      <td>0</td>\n",
       "      <td>0</td>\n",
       "      <td>0</td>\n",
       "      <td>0</td>\n",
       "      <td>...</td>\n",
       "      <td>0</td>\n",
       "      <td>0</td>\n",
       "      <td>0</td>\n",
       "      <td>0</td>\n",
       "      <td>0</td>\n",
       "      <td>1</td>\n",
       "      <td>0</td>\n",
       "      <td>0</td>\n",
       "      <td>0</td>\n",
       "      <td>1</td>\n",
       "    </tr>\n",
       "  </tbody>\n",
       "</table>\n",
       "<p>5 rows × 931 columns</p>\n",
       "</div>"
      ],
      "text/plain": [
       "   HaveChildren  ItemCategory1  ItemCategory2  ItemCategory3  Amount  \\\n",
       "0           0.0              3              0              0    8370   \n",
       "1           0.0              1              6             14   15200   \n",
       "2           0.0             12              0              0    1422   \n",
       "3           0.0             12             14              0    1057   \n",
       "4           0.0              8              0              0    7969   \n",
       "\n",
       "   CustomerID_1000002  CustomerID_1000003  CustomerID_1000004  \\\n",
       "0                   0                   0                   0   \n",
       "1                   0                   0                   0   \n",
       "2                   0                   0                   0   \n",
       "3                   0                   0                   0   \n",
       "4                   1                   0                   0   \n",
       "\n",
       "   CustomerID_1000005  CustomerID_1000006  ...  Profession_6  Profession_7  \\\n",
       "0                   0                   0  ...             0             0   \n",
       "1                   0                   0  ...             0             0   \n",
       "2                   0                   0  ...             0             0   \n",
       "3                   0                   0  ...             0             0   \n",
       "4                   0                   0  ...             0             0   \n",
       "\n",
       "   Profession_8  Profession_9  CityType_B  CityType_C  YearsInCity_1  \\\n",
       "0             0             0           0           0              0   \n",
       "1             0             0           0           0              0   \n",
       "2             0             0           0           0              0   \n",
       "3             0             0           0           0              0   \n",
       "4             0             0           0           1              0   \n",
       "\n",
       "   YearsInCity_2  YearsInCity_3  YearsInCity_4+  \n",
       "0              1              0               0  \n",
       "1              1              0               0  \n",
       "2              1              0               0  \n",
       "3              1              0               0  \n",
       "4              0              0               1  \n",
       "\n",
       "[5 rows x 931 columns]"
      ]
     },
     "execution_count": 131,
     "metadata": {},
     "output_type": "execute_result"
    }
   ],
   "source": [
    "fn(df1).head()"
   ]
  },
  {
   "cell_type": "code",
   "execution_count": 133,
   "metadata": {},
   "outputs": [
    {
     "name": "stdout",
     "output_type": "stream",
     "text": [
      "x_train (832, 11)\n",
      "x_test (209, 11)\n",
      "y_train (832,)\n",
      "y_test (209,)\n"
     ]
    }
   ],
   "source": [
    "#E\n",
    "x=df.drop('HaveChildren',axis=1)\n",
    "y=df.HaveChildren\n",
    "x_train,x_test,y_train,y_test=train_test_split(x,y,random_state=23,test_size=0.2)\n",
    "\n",
    "print('x_train',x_train.shape)\n",
    "print('x_test',x_test.shape)\n",
    "print('y_train',y_train.shape)\n",
    "print('y_test',y_test.shape)"
   ]
  },
  {
   "cell_type": "code",
   "execution_count": 136,
   "metadata": {},
   "outputs": [
    {
     "name": "stdout",
     "output_type": "stream",
     "text": [
      "z_stat for HaveChildren and Sex is 0.0035525679646154448\n",
      "p_value for Have Children and Sex is 0.9524714925173362\n",
      "\n",
      "z_stat for HaveChildren and Age is 258.5586988915323\n",
      "p_value for Have Children and Age is 6.073494821454543e-53\n",
      "\n",
      "z_stat for HaveChildren and Profession is 329.050040322177\n",
      "p_value for Have Children and Profession is 9.084236344000076e-58\n",
      "\n",
      "z_stat for HaveChildren and CityType is 59.25710428363881\n",
      "p_value for Have Children and CityType is 1.356698353773163e-13\n",
      "\n",
      "z_stat for HaveChildren and YearsInCity is 12.359859545884673\n",
      "p_value for Have Children and YearsInCity is 0.014866570595112262\n",
      "\n"
     ]
    }
   ],
   "source": [
    "# STATISTICAL TEST\n",
    "l1=['Sex','Age','Profession','CityType','YearsInCity']\n",
    "from statsmodels.stats import weightstats\n",
    "from scipy.stats import ttest_ind,chi2_contingency\n",
    "for i in l1:\n",
    "    observed_values=pd.crosstab(df[i],df['HaveChildren'])\n",
    "    z_stat,p_value,ddof,expected_values=chi2_contingency(observed_values)\n",
    "    print(f'z_stat for HaveChildren and {i} is',z_stat)\n",
    "    print(f'p_value for Have Children and {i} is',p_value)\n",
    "    print()\n",
    "    #H0: The variables are independent\n",
    "    #H1: Variables are dependent\n",
    "    # p_value for Have Children and Yearsincity is less than 0.05, null is rejected hence these variables are dependent on the target.\n",
    "    # For others the p_value is greater than 0.05, so the variables are independent."
   ]
  }
 ],
 "metadata": {
  "kernelspec": {
   "display_name": "Python 3 (ipykernel)",
   "language": "python",
   "name": "python3"
  },
  "language_info": {
   "codemirror_mode": {
    "name": "ipython",
    "version": 3
   },
   "file_extension": ".py",
   "mimetype": "text/x-python",
   "name": "python",
   "nbconvert_exporter": "python",
   "pygments_lexer": "ipython3",
   "version": "3.9.12"
  }
 },
 "nbformat": 4,
 "nbformat_minor": 4
}
